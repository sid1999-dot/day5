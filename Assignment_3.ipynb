{
  "nbformat": 4,
  "nbformat_minor": 0,
  "metadata": {
    "colab": {
      "name": "Assignment 3.ipynb",
      "provenance": []
    },
    "kernelspec": {
      "name": "python3",
      "display_name": "Python 3"
    }
  },
  "cells": [
    {
      "cell_type": "code",
      "metadata": {
        "colab": {
          "base_uri": "https://localhost:8080/"
        },
        "id": "cZaxqB-7SQL5",
        "outputId": "47423d56-ef2a-4094-b43c-2941babfa184"
      },
      "source": [
        "def test_prime(n):\r\n",
        "    if (n==1):\r\n",
        "        return False\r\n",
        "    elif (n==2):\r\n",
        "        return True;\r\n",
        "    else:\r\n",
        "        for x in range(2,n):\r\n",
        "            if(n % x==0):\r\n",
        "                return False\r\n",
        "        return True             \r\n",
        "print(test_prime(9))"
      ],
      "execution_count": 1,
      "outputs": [
        {
          "output_type": "stream",
          "text": [
            "False\n"
          ],
          "name": "stdout"
        }
      ]
    }
  ]
}